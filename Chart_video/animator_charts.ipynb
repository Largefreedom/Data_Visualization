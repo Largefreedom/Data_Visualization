{
 "cells": [
  {
   "cell_type": "code",
   "execution_count": null,
   "metadata": {},
   "outputs": [],
   "source": [
    "# 导入库文件\n",
    "import random\n",
    "import pandas as pd\n",
    "import matplotlib.pyplot as plt\n",
    "import matplotlib.ticker as ticker\n",
    "import matplotlib.animation as animation\n",
    "from IPython.display import HTML\n",
    "import matplotlib\n",
    "#防止动漫内存太大，报错\n",
    "matplotlib.rcParams['animation.embed_limit'] = 2**128"
   ]
  },
  {
   "cell_type": "code",
   "execution_count": null,
   "metadata": {},
   "outputs": [],
   "source": [
    "#pandas读取数据，且去列名分别为name,group,year和value的值；\n",
    "url = 'https://gist.githubusercontent.com/johnburnmurdoch/4199dbe55095c3e13de8d5b2e5e5307a/raw/fa018b25c24b7b5f47fd0568937ff6c04e384786/city_populations'\n",
    "df = pd.read_csv(url, usecols=['name', 'group', 'year', 'value'])\n",
    "df.head()"
   ]
  },
  {
   "cell_type": "code",
   "execution_count": null,
   "metadata": {},
   "outputs": [],
   "source": [
    "#导入random函数，randomcolor用于生成颜色代码\n",
    "# randomcolor生成颜色代码原理，\n",
    "# 【1-9/A-F】15个数字随机组合成6位字符串前面再加上一个“#”号键\n",
    "import random\n",
    "def randomcolor():\n",
    "    colorlist = ['1','2','3','4','5','6','7','8','9','A','B','C','D','E','F']\n",
    "    color =''\n",
    "    for i in range(6):\n",
    "        color += random.choice(colorlist)\n",
    "    return '#'+ color\n"
   ]
  },
  {
   "cell_type": "code",
   "execution_count": null,
   "metadata": {},
   "outputs": [],
   "source": [
    "#对地区列表进行去重，分类；\n",
    "area_list1 = set(df['name'])\n",
    "\n",
    "# color_list用于存放随机生成颜色代码个数\n",
    "# 因为后面区域个数 要与颜色个数保持一致，这里用了len函数；\n",
    "color_list =[]\n",
    "for i in range(len(area_list1)):\n",
    "    str_1 = randomcolor()\n",
    "\n",
    "    color_list.append(str_1)\n",
    "    str_1 = randomcolor()\n",
    "    \n",
    "print(color_list)\n",
    "#area_list转化为列表\n",
    "area_list_1 = [i for i in area_list1]\n",
    "print(area_list_1)"
   ]
  },
  {
   "cell_type": "code",
   "execution_count": null,
   "metadata": {},
   "outputs": [],
   "source": [
    "#colors表示 所在城市：颜色 一一对应字典形式；\n",
    "colors =dict(zip(area_list_1,color_list))\n",
    "print(colors)\n",
    "\n",
    "#group_lk为 城市：所在区域 --对应字典形式；\n",
    "group_lk = df.set_index('name')['group'].to_dict()\n",
    "print(group_lk)"
   ]
  },
  {
   "cell_type": "code",
   "execution_count": null,
   "metadata": {},
   "outputs": [],
   "source": [
    "# colors = dict(zip(\n",
    "#     [\"India\", \"Europe\", \"Asia\", \"Latin America\", \"Middle East\", \"North America\", \"Africa\"],\n",
    "#     [\"#adb0ff\", \"#ffb3ff\", \"#90d595\", \"#e48381\", \"#aafbff\", \"#f7bb5f\", \"#eafb50\"]\n",
    "# ))\n",
    "# group_lk = df.set_index('name')['group'].to_dict()"
   ]
  },
  {
   "cell_type": "code",
   "execution_count": null,
   "metadata": {},
   "outputs": [],
   "source": [
    "# 用plt加理图表，figsize表示图标长宽，ax表示标签\n",
    "fig, ax = plt.subplots(figsize=(15, 8))\n",
    "\n",
    "#dras_barchart生成current_year这一年各城市人口基本情况；\n",
    "def draw_barchart(current_year):\n",
    "    \n",
    "    #dff对year==current_year的行，以value从升序方式排序，取后十名也就是最大值；\n",
    "    dff = df[df['year'].eq(current_year)].sort_values(by='value',ascending = True).tail(12)\n",
    "    # 所有坐标、标签清除\n",
    "    ax.clear()\n",
    "    #显示颜色、城市名字\n",
    "    ax.barh(dff['name'],dff['value'],color = [colors[x] for x in dff['name']])\n",
    "    \n",
    "    dx = dff['value'].max()/200\n",
    "    \n",
    "    #ax.text(x,y,name,font,va,ha)\n",
    "    # x,y表示位置；\n",
    "    # name表示显示文本；\n",
    "    # va,ba分别表示水平位置，垂直放置位置；\n",
    "    for i ,(value,name) in enumerate(zip(dff['value'], dff['name'])):\n",
    "        ax.text(value-dx,i,name,size=14,weight=600,ha ='right',va = 'bottom')\n",
    "        ax.text(value-dx,i-.25,group_lk[name],size = 10,color ='#444444',ha ='right',va = 'baseline')\n",
    "        ax.text(value+dx,i ,f'{value:,.0f}',size = 14,ha = 'left',va ='center')\n",
    "    \n",
    "    #ax.transAxes表示轴坐标系，(1,0.4)表示放置位置\n",
    "    ax.text(1,0.4,current_year,transform = ax.transAxes,color ='#777777',size = 46,ha ='right',weight=800) \n",
    "    ax.text(0,1.06,'Population (throusands)',transform = ax.transAxes,size=12,color='#777777')\n",
    "    \n",
    "    #set_major_formatter表示刻度尺格式；\n",
    "    ax.xaxis.set_major_formatter(ticker.StrMethodFormatter('{x:,.0f}'))\n",
    "    ax.xaxis.set_ticks_position('top')\n",
    "    ax.tick_params(axis='x',colors='#777777',labelsize=12)\n",
    "    ax.set_yticks([])\n",
    "    #margins表示自动缩放余额；\n",
    "    ax.margins(0,0.01)\n",
    "    # 设置后面的网格\n",
    "    ax.grid(which='major',axis='x',linestyle='-')\n",
    "    #刻度线和网格线是在图标上方还是下方，True为下方\n",
    "    ax.set_axisbelow(True)\n",
    "    ax.text(0,1.15,'The most population cities in the word from 1500 to 2018',\n",
    "           transform=ax.transAxes,size=24,weight=600,ha='left',va='top')\n",
    "    ax.text(1,0,'by@zeroing1',transform = ax.transAxes,color ='#777777',ha = 'right',\n",
    "           bbox = dict(facecolor='white',alpha = 0.8,edgecolor='white'))\n",
    "    #取消图表周围的方框显示\n",
    "    plt.box(False)\n",
    "\n",
    "#绘制2018年各城市人口情况\n",
    "draw_barchart(2018)"
   ]
  },
  {
   "cell_type": "code",
   "execution_count": null,
   "metadata": {},
   "outputs": [],
   "source": [
    "#将原来的静态图拼接成动画\n",
    "fig, ax = plt.subplots(figsize=(15, 8))\n",
    "animator = animation.FuncAnimation(fig, draw_barchart, frames=range(1500, 2019))\n",
    "#保存到jshtml\n",
    "HTML(animator.to_jshtml())"
   ]
  },
  {
   "cell_type": "code",
   "execution_count": null,
   "metadata": {},
   "outputs": [],
   "source": [
    "#生成video，并保存至指定文件夹中\n",
    "animator.to_html5_video()\n",
    "animator.save('E:/ceshi/country_populations1.mp4')"
   ]
  }
 ],
 "metadata": {
  "kernelspec": {
   "display_name": "Python 3",
   "language": "python",
   "name": "python3"
  },
  "language_info": {
   "codemirror_mode": {
    "name": "ipython",
    "version": 3
   },
   "file_extension": ".py",
   "mimetype": "text/x-python",
   "name": "python",
   "nbconvert_exporter": "python",
   "pygments_lexer": "ipython3",
   "version": "3.7.4"
  }
 },
 "nbformat": 4,
 "nbformat_minor": 2
}
