{
 "cells": [
  {
   "cell_type": "code",
   "execution_count": null,
   "metadata": {},
   "outputs": [],
   "source": [
    "import pandas as pd\n",
    "import matplotlib.pyplot as plt\n",
    "import matplotlib.ticker as ticker"
   ]
  },
  {
   "cell_type": "code",
   "execution_count": null,
   "metadata": {},
   "outputs": [],
   "source": [
    "#读取excel文件\n",
    "df = pd.read_excel('E:/ceshi/aaa.xlsx')\n",
    "df.head()\n",
    "df.sort_values(by='answer_voted',ascending =False).head()"
   ]
  },
  {
   "cell_type": "code",
   "execution_count": null,
   "metadata": {},
   "outputs": [],
   "source": [
    "\n",
    "df1 = df[['author_name','author_sex','comment_count','author_follower_count','answer_voted','created_time']]\n",
    "df2 =df1.sort_values(by ='created_time')\n",
    "df2 =df['created_time'].value_counts()\n",
    "# df2.sort_index()\n",
    "df3 = df1.sort_values(by ='answer_voted',ascending =False).head(30)[['comment_count','answer_voted']]\n",
    "df3['index1'] = np.array(np.arange(len(df3.answer_voted)))\n",
    "df3['index1'] =df3['index1'].map(lambda x:x+1)\n"
   ]
  },
  {
   "cell_type": "code",
   "execution_count": null,
   "metadata": {},
   "outputs": [],
   "source": [
    "#粉丝排名前30位粉丝数量分布可视化图表部分\n",
    "\n",
    "fig,ax = plt.subplots(figsize =(15,10))\n",
    "for i,j in zip(list(df3.index1),list(df3.comment_count)):\n",
    "    #显示标签\n",
    "    ax.text(i,j,f'{j:,.0f}',size= 12,color='r')\n",
    "ax.yaxis.set_major_formatter(ticker.StrMethodFormatter('{x:,.0f}'))\n",
    "# axs.xaxis.set_major_locator(ticker.MultipleLocator(1))\n",
    "plt.plot(df3.index1.to_list(),df3.comment_count.to_list())\n",
    "plt.xlabel('回答点赞排名')\n",
    "plt.ylabel('答主粉丝数')\n",
    "plt.title('<神逻辑>回答点赞数量排名前30位粉丝数情况')\n",
    "plt.savefig('E:/ceshi/ceshi1/1111.png')\n",
    "plt.show()"
   ]
  },
  {
   "cell_type": "code",
   "execution_count": null,
   "metadata": {},
   "outputs": [],
   "source": [
    "import matplotlib.pyplot as plt\n",
    "\n",
    "data = df2.sort_index().to_dict()\n",
    "# data =sorted(data.keys())\n",
    "\n",
    "names = list(data.keys())\n",
    "values = list(data.values())\n",
    "\n",
    "fig, axs = plt.subplots(figsize=(15,10), sharey=True)\n",
    "# axs.bar(names, values)\n",
    "# axs[1].scatter(names, values)\n",
    "for i,j in zip(names,values):\n",
    "    axs.text(i,j,j)\n",
    "plt.xticks(rotation = 60)\n",
    "axs.plot(names, values)\n",
    "axs.set_xlabel('知乎答题时间',color = 'black',size =15)\n",
    "axs.set_ylabel('答题数量',color = 'black',size =15)\n",
    "axs.xaxis.set_major_locator(ticker.MultipleLocator(1))\n",
    "plt.rcParams['font.sans-serif']=['SimHei']\n",
    "plt.title('不同时间段答题数量',x=0.5,y =1,size = 20)\n",
    "plt.savefig('E:/ceshi/ceshi1/1.png')"
   ]
  },
  {
   "cell_type": "code",
   "execution_count": null,
   "metadata": {},
   "outputs": [],
   "source": [
    "def color_list(x):\n",
    "    if x==1:\n",
    "        return 'blue'\n",
    "    elif x==2:\n",
    "        return 'red'\n",
    "    else:\n",
    "        return 'gray'\n",
    "    \n",
    "colo_list = [color_list(x) for x in list(df1['author_sex'])]\n",
    "colo_l1 = np.array(colo_list)\n",
    "df1 =df1.sort_values(by ='answer_voted',ascending =False).head(20)\n",
    "df1['index1'] =np.arange(20)\n",
    "df1['index1']  =df1['index1'].map(lambda x:x+1)\n",
    "df1"
   ]
  },
  {
   "cell_type": "code",
   "execution_count": null,
   "metadata": {},
   "outputs": [],
   "source": [
    "#点赞前二十名性别分布可视化图表部分\n",
    "import matplotlib.patches as mpatches\n",
    "fig, axs = plt.subplots(figsize=(15,8))\n",
    "plt.xticks(np.arange(len(np.array(df1.index1))),np.array(df1.index1))\n",
    "#标签上显示名字\n",
    "for i,j in zip(list(df1.index1),list(df1.answer_voted)):\n",
    "    axs.text(i-1.3,j,j,size=15,color ='b')    \n",
    "plt.bar(np.arange(len(np.array(df1.index1))),np.array(df1.answer_voted),color=list(colo_l1))\n",
    "red_patch = mpatches.Patch(color='red', label='女')\n",
    "blue_patch = mpatches.Patch(color='blue', label='男')\n",
    "gray_patch = mpatches.Patch(color='gray', label='未知')\n",
    "#每隔5列显示一个坐标；；；\n",
    "# axs.xaxis.set_major_locator(ticker.MultipleLocator(5))\n",
    "\n",
    "plt.legend(handles=[red_patch,blue_patch,gray_patch],prop = {'size':15})\n",
    "\n",
    "\n",
    "# df1.set_index('index1',inplace = True)\n",
    "# plt.bar(df1.index1,df1.answer_voted)\n",
    "plt.xlabel('知乎回答点赞排名')\n",
    "plt.ylabel('知乎回答点赞数量')\n",
    "plt.title('<神逻辑>知乎答案点赞前二十名性别分布')\n",
    "# plt.savefig('E:/ceshi/ceshi1/111.jpg')\n",
    "plt.show()"
   ]
  },
  {
   "cell_type": "code",
   "execution_count": null,
   "metadata": {},
   "outputs": [],
   "source": [
    "#读出txt文本\n",
    "f = open('E:/ceshi/ceshi1/ab.txt','w',encoding ='utf-8')\n",
    "df4 =df.sort_values(by ='answer_voted',ascending =False).head(8)\n",
    "for i,j in enumerate(df4['answer_contend'].to_list()):\n",
    "    f.write(j)\n",
    "    f.write('\\n\\n\\n')\n",
    "    f.write(df4['author_name'].to_list()[i])\n",
    "    f.write('\\n\\n\\n')\n",
    "    f.write('--------------------'*20)\n",
    "    f.write('\\n\\n\\n')\n",
    "f.close()"
   ]
  },
  {
   "cell_type": "code",
   "execution_count": null,
   "metadata": {},
   "outputs": [],
   "source": [
    "#下载图标图片；\n",
    "import os\n",
    "file = 'E:/ceshi/ceshi1/pic/'\n",
    "if not os.path.exists(file):\n",
    "    os.makedirs(file)\n"
   ]
  },
  {
   "cell_type": "code",
   "execution_count": null,
   "metadata": {},
   "outputs": [],
   "source": [
    "import requests\n",
    "\n",
    "file_list = df['author_icon_url'].map(lambda x:str(x).replace(']','').replace('[','')).to_list()\n",
    "file_list"
   ]
  },
  {
   "cell_type": "code",
   "execution_count": null,
   "metadata": {},
   "outputs": [],
   "source": [
    "for i,j in enumerate(url_list):\n",
    "    try:\n",
    "        jpg_file = os.path.join(file,'{}.jpg'.format(str(i)))\n",
    "        a = requests.get(j)\n",
    "        with open(jpg_file,'wb') as f:\n",
    "            f.write(a.content)\n",
    "        print('Next')\n",
    "    except:\n",
    "        print('错误')\n"
   ]
  },
  {
   "cell_type": "code",
   "execution_count": null,
   "metadata": {},
   "outputs": [],
   "source": []
  }
 ],
 "metadata": {
  "kernelspec": {
   "display_name": "Python 3",
   "language": "python",
   "name": "python3"
  },
  "language_info": {
   "codemirror_mode": {
    "name": "ipython",
    "version": 3
   },
   "file_extension": ".py",
   "mimetype": "text/x-python",
   "name": "python",
   "nbconvert_exporter": "python",
   "pygments_lexer": "ipython3",
   "version": "3.7.4"
  }
 },
 "nbformat": 4,
 "nbformat_minor": 2
}
